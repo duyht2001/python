{
 "cells": [
  {
   "cell_type": "markdown",
   "id": "f27e71c9-b227-4443-824b-e0f03abaa67b",
   "metadata": {},
   "source": [
    "## Bài 1\n",
    "\n",
    "#### 1.1. Viết hàm theo khuôn mẫu sau để giải phương trình $ax^2+bx+c=0$, với a,b,c là các số thực bất kỳ"
   ]
  },
  {
   "cell_type": "code",
   "execution_count": 1,
   "id": "765e0ddb-4c45-4543-8370-7dd57b0a81a1",
   "metadata": {},
   "outputs": [],
   "source": [
    "import math\n",
    "\n",
    "def GiaiPTBac2(a, b, c):\n",
    "    # Xóa chữ 'pass' và viết các dòng lệnh của bạn\n",
    "    if a == 0:\n",
    "        if b == 0:\n",
    "            if c == 0:  # a,b,c cùng = 0\n",
    "                print('Phương trình vô số nghiệm')\n",
    "            else: # c != và a,b = 0\n",
    "                print('Phương trình vô nghiệm')\n",
    "        else: # a = 0, b != 0, c tùy ý\n",
    "            print('x = ', -c/b)\n",
    "    else: # a != -> giải pt theo delta\n",
    "        delta = b**2 - 4*a*c\n",
    "        if  delta < 0: \n",
    "            print('Vô nghiệm')\n",
    "        elif delta == 0:\n",
    "            print('Nghiệm kép x1 = x2 = ', -b/(2*a))\n",
    "        else:\n",
    "            x1 = (-b + math.sqrt(delta))/2/a\n",
    "            x2 = (-b - math.sqrt(delta))/2/a\n",
    "            print('x1 = %6.2f   x2 = %6.2f' % (x1, x2))"
   ]
  },
  {
   "cell_type": "markdown",
   "id": "b39ac276-5838-47a0-a9df-6e881a2429da",
   "metadata": {},
   "source": [
    "#### 1.2. Sử dụng hàm ở trên để giải phương trình bậc hai với các hệ số a,b,c sau"
   ]
  },
  {
   "cell_type": "code",
   "execution_count": 2,
   "id": "6dc1bd6e-a362-443f-a248-8d9c2a5e1283",
   "metadata": {},
   "outputs": [
    {
     "name": "stdout",
     "output_type": "stream",
     "text": [
      "x1 =   1.00   x2 =  -3.00\n"
     ]
    }
   ],
   "source": [
    "a,b,c = 1,2,-3\n",
    "\n",
    "# Viết lệnh để gọi hàm giải phương trình bậc hai với 3 đối số a,b,c được cho\n",
    "GiaiPTBac2(a,b,c)"
   ]
  },
  {
   "cell_type": "markdown",
   "id": "d637e974-9fe0-4452-9cd7-2415a516ba32",
   "metadata": {},
   "source": [
    "#### 1.3. Giải hàng loạt phương trình\n",
    "Cho file 'parameters.txt' trong thư mục 'data' có nhiều dòng văn bản, mỗi dòng chứa 3 số thực (cách nhau bằng ký tự ',') tương ứng với các hệ số a,b,c của một phương trình bậc hai. Viết chương trình đọc lần lượt các hệ số a,b,c từ file và giải phương trình tương ứng."
   ]
  },
  {
   "cell_type": "code",
   "execution_count": 3,
   "id": "a5f062cb-99b6-4e43-a101-37ded7191b09",
   "metadata": {},
   "outputs": [
    {
     "data": {
      "text/html": [
       "<div>\n",
       "<style scoped>\n",
       "    .dataframe tbody tr th:only-of-type {\n",
       "        vertical-align: middle;\n",
       "    }\n",
       "\n",
       "    .dataframe tbody tr th {\n",
       "        vertical-align: top;\n",
       "    }\n",
       "\n",
       "    .dataframe thead th {\n",
       "        text-align: right;\n",
       "    }\n",
       "</style>\n",
       "<table border=\"1\" class=\"dataframe\">\n",
       "  <thead>\n",
       "    <tr style=\"text-align: right;\">\n",
       "      <th></th>\n",
       "      <th>a</th>\n",
       "      <th>b</th>\n",
       "      <th>c</th>\n",
       "    </tr>\n",
       "  </thead>\n",
       "  <tbody>\n",
       "    <tr>\n",
       "      <th>0</th>\n",
       "      <td>1</td>\n",
       "      <td>2</td>\n",
       "      <td>3</td>\n",
       "    </tr>\n",
       "    <tr>\n",
       "      <th>1</th>\n",
       "      <td>0</td>\n",
       "      <td>0</td>\n",
       "      <td>0</td>\n",
       "    </tr>\n",
       "    <tr>\n",
       "      <th>2</th>\n",
       "      <td>0</td>\n",
       "      <td>1</td>\n",
       "      <td>0</td>\n",
       "    </tr>\n",
       "    <tr>\n",
       "      <th>3</th>\n",
       "      <td>0</td>\n",
       "      <td>0</td>\n",
       "      <td>1</td>\n",
       "    </tr>\n",
       "    <tr>\n",
       "      <th>4</th>\n",
       "      <td>1</td>\n",
       "      <td>-2</td>\n",
       "      <td>3</td>\n",
       "    </tr>\n",
       "  </tbody>\n",
       "</table>\n",
       "</div>"
      ],
      "text/plain": [
       "   a  b  c\n",
       "0  1  2  3\n",
       "1  0  0  0\n",
       "2  0  1  0\n",
       "3  0  0  1\n",
       "4  1 -2  3"
      ]
     },
     "execution_count": 3,
     "metadata": {},
     "output_type": "execute_result"
    }
   ],
   "source": [
    "# Sử dụng thư viện pandas để xử lý file .csv\n",
    "import pandas as pd\n",
    "\n",
    "# Đọc dữ liệu từ file\n",
    "params = pd.read_csv('data/parameters.csv', delimiter=',')\n",
    "\n",
    "# Xem 5 dòng đầu tiên\n",
    "params.head(5)"
   ]
  },
  {
   "cell_type": "markdown",
   "id": "6db80e82-efc7-48d2-98b8-d6b720770634",
   "metadata": {},
   "source": [
    "#### 1.4. Viết các lệnh để lấy ra a,b,c và giải phương trình tương ứng:"
   ]
  },
  {
   "cell_type": "code",
   "execution_count": 4,
   "id": "f9188a37",
   "metadata": {},
   "outputs": [
    {
     "name": "stdout",
     "output_type": "stream",
     "text": [
      "Phương trình  1.00 * x^2 +  2.00 * x +  3.00 = 0\n",
      "Vô nghiệm\n",
      "Phương trình  0.00 * x^2 +  0.00 * x +  0.00 = 0\n",
      "Phương trình vô số nghiệm\n",
      "Phương trình  0.00 * x^2 +  1.00 * x +  0.00 = 0\n",
      "x =  0.0\n",
      "Phương trình  0.00 * x^2 +  0.00 * x +  1.00 = 0\n",
      "Phương trình vô nghiệm\n",
      "Phương trình  1.00 * x^2 + -2.00 * x +  3.00 = 0\n",
      "Vô nghiệm\n",
      "Phương trình  1.00 * x^2 +  2.00 * x +  1.00 = 0\n",
      "Nghiệm kép x1 = x2 =  -1.0\n",
      "Phương trình  1.00 * x^2 +  2.00 * x + -3.00 = 0\n",
      "x1 =   1.00   x2 =  -3.00\n",
      "Phương trình  1.00 * x^2 + -2.00 * x +  1.00 = 0\n",
      "Nghiệm kép x1 = x2 =  1.0\n",
      "Phương trình  3.00 * x^2 +  4.00 * x +  5.00 = 0\n",
      "Vô nghiệm\n"
     ]
    }
   ],
   "source": [
    "for index, row in params.iterrows():\n",
    "    # print(\"%6.2f%6.2f%6.2f\" % (row['a'], row['b'],row['c']))\n",
    "    a,b,c = row['a'], row['b'], row['c']\n",
    "    print('Phương trình %5.2f * x^2 + %5.2f * x + %5.2f = 0' % (a,b,c))\n",
    "    GiaiPTBac2(a,b,c)"
   ]
  },
  {
   "cell_type": "code",
   "execution_count": null,
   "id": "1bdf891f",
   "metadata": {},
   "outputs": [],
   "source": []
  }
 ],
 "metadata": {
  "kernelspec": {
   "display_name": "Python 3",
   "language": "python",
   "name": "python3"
  },
  "language_info": {
   "codemirror_mode": {
    "name": "ipython",
    "version": 3
   },
   "file_extension": ".py",
   "mimetype": "text/x-python",
   "name": "python",
   "nbconvert_exporter": "python",
   "pygments_lexer": "ipython3",
   "version": "3.8.8"
  },
  "vscode": {
   "interpreter": {
    "hash": "c558e01d0d67fb5de7d0204cfd30901ca8376cdef31607e6153e1485af89c8bc"
   }
  }
 },
 "nbformat": 4,
 "nbformat_minor": 5
}
