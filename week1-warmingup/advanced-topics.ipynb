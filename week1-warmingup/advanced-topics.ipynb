{
 "cells": [
  {
   "cell_type": "markdown",
   "id": "f27e71c9-b227-4443-824b-e0f03abaa67b",
   "metadata": {},
   "source": [
    "## Lập trình Python nâng cao\n"
   ]
  },
  {
   "cell_type": "markdown",
   "id": "18d8982e",
   "metadata": {},
   "source": [
    "### Phạm vi của biến (scope)\n",
    "\n",
    "Một biến chỉ có thể truy xuất trong phạm vi nhất định tùy thuộc vào cách nó được khai báo.\n",
    "\n",
    "#### Biến cục bộ (local variables)\n",
    "Một biến được khai báo trong một hàm thì chỉ có phạm vi bên trong hàm đó."
   ]
  },
  {
   "cell_type": "code",
   "execution_count": 1,
   "id": "110f2a3d",
   "metadata": {},
   "outputs": [
    {
     "name": "stdout",
     "output_type": "stream",
     "text": [
      "300\n"
     ]
    }
   ],
   "source": [
    "# Ví dụ biến cục bộ\n",
    "\n",
    "def Foo():\n",
    "  x = 300  # x là biến cục bộ, chỉ có phạm vi trong hàm Foo()\n",
    "  print(x)\n",
    "\n",
    "Foo()"
   ]
  },
  {
   "cell_type": "markdown",
   "id": "95fe6c7b",
   "metadata": {},
   "source": [
    "#### Biến toàn cục (global variables)\n",
    "\n",
    "Một biến khai báo ở chương trình chính thì có phạm vi toàn cục. Biến toàn cục có thể truy xuất từ bất kỳ đâu trong chương trình."
   ]
  },
  {
   "cell_type": "code",
   "execution_count": 2,
   "id": "0e4d9c88",
   "metadata": {},
   "outputs": [
    {
     "name": "stdout",
     "output_type": "stream",
     "text": [
      "7.5\n",
      "7.5\n"
     ]
    }
   ],
   "source": [
    "# Ví dụ biến toàn cục\n",
    "\n",
    "interestRate = 7.5\n",
    "\n",
    "def myFunc():\n",
    "  print(interestRate)\n",
    "\n",
    "myFunc()\n",
    "\n",
    "print(interestRate)"
   ]
  },
  {
   "cell_type": "markdown",
   "id": "a6b3a6fd",
   "metadata": {},
   "source": [
    "Khi muốn ấn định một biến ở bên trong hàm là toàn cục, thêm từ khóa 'global' trước tên biến."
   ]
  },
  {
   "cell_type": "code",
   "execution_count": 3,
   "id": "4b0f240e",
   "metadata": {},
   "outputs": [
    {
     "name": "stdout",
     "output_type": "stream",
     "text": [
      "300\n",
      "300\n"
     ]
    }
   ],
   "source": [
    "# Ví dụ biến trong hàm có phạm vi toàn cục\n",
    "\n",
    "def Foo():\n",
    "    global x  # x là biến toàn cục vì có từ khóa 'global'\n",
    "    x = 300  \n",
    "    print(x)\n",
    "\n",
    "Foo()\n",
    "print(x)"
   ]
  },
  {
   "cell_type": "markdown",
   "id": "7710f1fb",
   "metadata": {},
   "source": [
    "#### Định nghĩa hàm bên trong hàm\n",
    "\n",
    "Python cho phép định nghĩa hàm bên trong hàm. Khi đó, hàm 'con' có quyền truy xuất biến cục bộ của hàm 'mẹ'. "
   ]
  },
  {
   "cell_type": "code",
   "execution_count": 4,
   "id": "6656a0e9",
   "metadata": {},
   "outputs": [
    {
     "name": "stdout",
     "output_type": "stream",
     "text": [
      "2 3 5 7 "
     ]
    }
   ],
   "source": [
    "# Ví dụ: Liệt kê các số nguyên tố nhỏ hơn n\n",
    "\n",
    "def InSNT(n):   \n",
    "    def LaSNT(x):\n",
    "        if x < 2: return False\n",
    "        for i in range(2, x//2 + 1):\n",
    "            if x % i == 0: return False\n",
    "        return True\n",
    "    \n",
    "    for i in range(n):\n",
    "        if LaSNT(i): print(i, end=' ')\n",
    "\n",
    "\n",
    "InSNT(10)"
   ]
  },
  {
   "cell_type": "markdown",
   "id": "c8064e4b",
   "metadata": {},
   "source": [
    "### Xử lý ngoại lệ \n",
    "\n",
    "Khi chương trình xảy ra lỗi (gọi là ngoại lệ - exception), Python sẽ dừng và tạo ra một thông báo lỗi.\n",
    "Người lập trình có thể chủ động kiểm soát ngoại lệ bằng cách dùng cấu trúc điều khiển **try**"
   ]
  },
  {
   "cell_type": "code",
   "execution_count": 5,
   "id": "8cd13f13",
   "metadata": {},
   "outputs": [
    {
     "name": "stdout",
     "output_type": "stream",
     "text": [
      "Có lỗi xảy ra!\n"
     ]
    }
   ],
   "source": [
    "# Ví dụ về xử lý ngoại lệ. Các lệnh có khả năng gây ra lỗi được đặt trong khối **try**, \n",
    "# các lệnh đặt trong khối **except** sẽ được thực thi khi có lỗi xảy ra.\n",
    "x = 5\n",
    "y = 0\n",
    "try:\n",
    "  print(x/y)\n",
    "except:\n",
    "  print(\"Có lỗi xảy ra!\")"
   ]
  },
  {
   "cell_type": "markdown",
   "id": "1c1030e0",
   "metadata": {},
   "source": [
    "### Hàm nâng cao"
   ]
  },
  {
   "cell_type": "markdown",
   "id": "43a350a7",
   "metadata": {},
   "source": [
    "#### Truyền đối số cho hàm\n",
    "\n",
    "Theo mặc định, khi gọi hàm trong Python (và các ngôn ngữ khác), các đối số phải được truyền theo đúng số lượng và thứ tự như đã lập trình. Nếu không, trình biên dịch sẽ báo lỗi."
   ]
  },
  {
   "cell_type": "code",
   "execution_count": 6,
   "id": "fe16e501",
   "metadata": {
    "scrolled": true
   },
   "outputs": [],
   "source": [
    "# Hàm trả về tổng của 2 số\n",
    "def Sum(a, b):\n",
    "    return a + b"
   ]
  },
  {
   "cell_type": "code",
   "execution_count": 7,
   "id": "b68bc8c0",
   "metadata": {},
   "outputs": [
    {
     "name": "stdout",
     "output_type": "stream",
     "text": [
      "Tổng 5 + 10 = 15\n"
     ]
    }
   ],
   "source": [
    "# Gọi hàm với 2 đối số (OK)\n",
    "a,b = 5,10\n",
    "print('Tổng %d + %d = %d' % (a, b, Sum(a,b)))"
   ]
  },
  {
   "cell_type": "code",
   "execution_count": 8,
   "id": "e6b668a4",
   "metadata": {},
   "outputs": [
    {
     "ename": "TypeError",
     "evalue": "Sum() missing 1 required positional argument: 'b'",
     "output_type": "error",
     "traceback": [
      "\u001b[1;31m---------------------------------------------------------------------------\u001b[0m",
      "\u001b[1;31mTypeError\u001b[0m                                 Traceback (most recent call last)",
      "\u001b[1;32m<ipython-input-8-564206d5a1f9>\u001b[0m in \u001b[0;36m<module>\u001b[1;34m\u001b[0m\n\u001b[0;32m      1\u001b[0m \u001b[1;31m# Cách gọi hàm sau đây sẽ bị lỗi vì truyền không đủ số lượng đối số (TypeError: Sum() missing 1 required positional argument)\u001b[0m\u001b[1;33m\u001b[0m\u001b[1;33m\u001b[0m\u001b[1;33m\u001b[0m\u001b[0m\n\u001b[0;32m      2\u001b[0m \u001b[1;33m\u001b[0m\u001b[0m\n\u001b[1;32m----> 3\u001b[1;33m \u001b[0ms\u001b[0m \u001b[1;33m=\u001b[0m \u001b[0mSum\u001b[0m\u001b[1;33m(\u001b[0m\u001b[1;36m5\u001b[0m\u001b[1;33m)\u001b[0m\u001b[1;33m\u001b[0m\u001b[1;33m\u001b[0m\u001b[0m\n\u001b[0m",
      "\u001b[1;31mTypeError\u001b[0m: Sum() missing 1 required positional argument: 'b'"
     ]
    }
   ],
   "source": [
    "# Cách gọi hàm sau đây sẽ bị lỗi vì truyền không đủ số lượng đối số (TypeError: Sum() missing 1 required positional argument)\n",
    "\n",
    "s = Sum(5)"
   ]
  },
  {
   "cell_type": "markdown",
   "id": "bb5fa812",
   "metadata": {},
   "source": [
    "#### Truyền số lượng tùy ý đối số cho hàm\n",
    "\n",
    "Khi muốn truyền một số lượng tùy ý đối số cho hàm, thêm ký tự '*' trước tên tham số trong phần định nghĩa hàm."
   ]
  },
  {
   "cell_type": "code",
   "execution_count": 9,
   "id": "088df0bb",
   "metadata": {},
   "outputs": [],
   "source": [
    "# Ví dụ: Minh họa hàm có số lượng đối số tùy ý\n",
    "# Khi gọi, truyền cho hàm một danh sách tùy ý các số thực, hàm trả về tổng các số.\n",
    "\n",
    "def Sum(*numbers):\n",
    "    s = 0\n",
    "    for i in numbers:\n",
    "        s += i\n",
    "    return s"
   ]
  },
  {
   "cell_type": "code",
   "execution_count": 10,
   "id": "a01ae356",
   "metadata": {},
   "outputs": [
    {
     "name": "stdout",
     "output_type": "stream",
     "text": [
      "6.5\n"
     ]
    }
   ],
   "source": [
    "s = Sum(1,2.5,3)\n",
    "print(s)"
   ]
  },
  {
   "cell_type": "code",
   "execution_count": 11,
   "id": "8233e67d",
   "metadata": {},
   "outputs": [
    {
     "name": "stdout",
     "output_type": "stream",
     "text": [
      "Đứa út nhà tui tên là Đinh Mão\n",
      "Đứa út nhà tui tên là David Tèo\n"
     ]
    }
   ],
   "source": [
    "# Ví dụ: Minh họa hàm có số lượng đối số tùy ý\n",
    "# Khi gọi, truyền cho hàm một danh sách tùy ý chứa tên các con theo thứ tự từ lớn đến bé\n",
    "# Hàm in ra tên của con út (ở cuối danh sách)\n",
    "\n",
    "def MyChildren(*kids):\n",
    "  print(\"Đứa út nhà tui tên là \" + kids[-1])\n",
    "\n",
    "MyChildren(\"Giáp Tý\", \"Ất Sửu\", \"Bính Dần\", \"Đinh Mão\")\n",
    "MyChildren(\"Giáp Tý\", \"Ất Sửu\", \"David Tèo\")"
   ]
  },
  {
   "cell_type": "markdown",
   "id": "b93a9970",
   "metadata": {},
   "source": [
    "#### Truyền đối số theo thứ tự tùy ý (Keyword Arguments, **kwargs)\n",
    "\n",
    "Trong trường hợp không xác định thứ tự đối số truyền cho hàm, thêm 2 ký tự '**' trước tên tham số ở phần định nghĩa hàm.\n",
    "Khi đó, các đối số được truyền cho hàm dưới dạng một từ điển.\n",
    "\n"
   ]
  },
  {
   "cell_type": "code",
   "execution_count": 12,
   "id": "069e9c65",
   "metadata": {},
   "outputs": [
    {
     "name": "stdout",
     "output_type": "stream",
     "text": [
      "Mã SV: 62131234\tHọ tên: David Tèo\n",
      "Mã SV: 63136868\tHọ tên: Phạm Thị Sương Sa\n"
     ]
    }
   ],
   "source": [
    "# Định nghĩa hàm với danh sách tham số dạng từ điển\n",
    "\n",
    "def StudentInfo(**sv):\n",
    "  print('Mã SV: ' + sv['id'] + '\\t' + \"Họ tên: \" + sv['fullname'])\n",
    "\n",
    "\n",
    "# Gọi hàm và truyền đối số dạng từ điển với thứ tự đối số khác nhau:\n",
    "StudentInfo(fullname=\"David Tèo\", id=\"62131234\")\n",
    "StudentInfo(id='63136868', fullname=\"Phạm Thị Sương Sa\")"
   ]
  },
  {
   "cell_type": "markdown",
   "id": "c113bef0",
   "metadata": {},
   "source": [
    "### Modules"
   ]
  },
  {
   "cell_type": "markdown",
   "id": "d875af3e",
   "metadata": {},
   "source": [
    "Trong Python, có thể tổ chức các thư viện mã nguồn ở một file gọi là module.\n",
    "Cần khai báo module trước khi sử dụng.\n",
    "\n",
    "Ví dụ: Module `myLib.py` có chứa hàm tự định nghĩa sau:\n",
    "```Python\n",
    "def Square(x):\n",
    "    return x * x\n",
    "```\n",
    "\n",
    "Để sử dụng được thư viện này, cần khai báo như sau:\n",
    "```Python\n",
    "import myLib\n",
    "y = myLib.Square(5)\n",
    "```\n",
    "hoặc\n",
    "```Python\n",
    "from myLib import Square\n",
    "y = Square(5)\n",
    "```\n"
   ]
  }
 ],
 "metadata": {
  "kernelspec": {
   "display_name": "Python 3.8.8 ('base')",
   "language": "python",
   "name": "python3"
  },
  "language_info": {
   "codemirror_mode": {
    "name": "ipython",
    "version": 3
   },
   "file_extension": ".py",
   "mimetype": "text/x-python",
   "name": "python",
   "nbconvert_exporter": "python",
   "pygments_lexer": "ipython3",
   "version": "3.8.8"
  },
  "vscode": {
   "interpreter": {
    "hash": "c558e01d0d67fb5de7d0204cfd30901ca8376cdef31607e6153e1485af89c8bc"
   }
  }
 },
 "nbformat": 4,
 "nbformat_minor": 5
}
