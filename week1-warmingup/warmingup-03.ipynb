{
 "cells": [
  {
   "cell_type": "markdown",
   "id": "f27e71c9-b227-4443-824b-e0f03abaa67b",
   "metadata": {},
   "source": [
    "## Bài 3 - Xử lý chuỗi, file\n",
    "\n",
    "#### 3.1. Xử lý chuỗi\n",
    "Cho đoạn văn bản sau (Bản dịch bài thơ 'Thất bộ thi' - Tào Thực):"
   ]
  },
  {
   "cell_type": "code",
   "execution_count": 2,
   "id": "765e0ddb-4c45-4543-8370-7dd57b0a81a1",
   "metadata": {},
   "outputs": [],
   "source": [
    "text = \"\"\"Cành đậu đun hạt đậu,\n",
    "Hạt đậu khóc trong nồi,\n",
    "Sinh ra từ một gốc,\n",
    "Sao nỡ vội thiêu nhau.\n",
    "\"\"\""
   ]
  },
  {
   "cell_type": "markdown",
   "id": "f7299dee",
   "metadata": {},
   "source": [
    "Hãy đếm tổng số từ trong văn bản"
   ]
  },
  {
   "cell_type": "code",
   "execution_count": 6,
   "id": "47704296",
   "metadata": {},
   "outputs": [
    {
     "name": "stdout",
     "output_type": "stream",
     "text": [
      "20\n",
      "['Cành', 'đậu', 'đun', 'hạt', 'đậu', 'Hạt', 'đậu', 'khóc', 'trong', 'nồi', 'Sinh', 'ra', 'từ', 'một', 'gốc', 'Sao', 'nỡ', 'vội', 'thiêu', 'nhau']\n"
     ]
    }
   ],
   "source": [
    "# Sử dụng Regular Expression\n",
    "import re\n",
    "\n",
    "# Thay thế các ký tự không phải một từ, chữ số hoặc khoảng trắng (\\W) bởi khoảng trắng\n",
    "cleanString = re.sub('\\W+',' ', text )\n",
    "# Tách chuỗi ra thành các từ và đưa vào danh sách\n",
    "words = [w.strip() for w in cleanString.split()]\n",
    "\n",
    "# Bạn hãy viết tiếp phần còn lại\n",
    "print(len(words))\n",
    "\n",
    "print(words)"
   ]
  },
  {
   "cell_type": "markdown",
   "id": "48f9c044",
   "metadata": {},
   "source": [
    "Tìm từ dài nhất"
   ]
  },
  {
   "cell_type": "code",
   "execution_count": 8,
   "id": "d0a55cdd",
   "metadata": {},
   "outputs": [
    {
     "name": "stdout",
     "output_type": "stream",
     "text": [
      "4\n",
      "3\n",
      "3\n",
      "3\n",
      "3\n",
      "3\n",
      "3\n",
      "4\n",
      "5\n",
      "3\n",
      "4\n",
      "2\n",
      "2\n",
      "3\n",
      "3\n",
      "3\n",
      "2\n",
      "3\n",
      "5\n",
      "4\n"
     ]
    }
   ],
   "source": [
    "max_length = -1\n",
    "max_length_word = \"\"\n",
    "for i in range(len(words)):\n",
    "    if len(words[i]) > max_length:\n",
    "        max_length = len(words[i])\n",
    "        max_length_word = words[i]\n",
    "    \n",
    "print(max_length_word)\n",
    "pritn(max_length)"
   ]
  },
  {
   "cell_type": "markdown",
   "id": "05d3010a",
   "metadata": {},
   "source": [
    "Đếm số lần xuất hiện của mỗi từ"
   ]
  },
  {
   "cell_type": "code",
   "execution_count": null,
   "id": "49d9f1ce",
   "metadata": {},
   "outputs": [],
   "source": []
  },
  {
   "cell_type": "markdown",
   "id": "39905968",
   "metadata": {},
   "source": [
    "#### 3.2. Xử lý file văn bản\n",
    "Cho file văn bản 'TruyenKieu.txt' trong thư mục 'data'"
   ]
  },
  {
   "cell_type": "markdown",
   "id": "4e57820c",
   "metadata": {},
   "source": [
    "Đọc và hiển thị nội dung văn bản lên màn hình"
   ]
  },
  {
   "cell_type": "code",
   "execution_count": 3,
   "id": "5fc31ba6",
   "metadata": {},
   "outputs": [],
   "source": [
    "textFile = open('data/TruyenKieu.txt', 'r', encoding='utf-8')\n",
    "\n",
    "# Bạn hãy viết phần còn lại"
   ]
  },
  {
   "cell_type": "markdown",
   "id": "9a7ba584",
   "metadata": {},
   "source": [
    "Đếm số dòng, số từ của Truyện Kiều"
   ]
  },
  {
   "cell_type": "code",
   "execution_count": null,
   "id": "0c6e4e79",
   "metadata": {},
   "outputs": [],
   "source": []
  },
  {
   "cell_type": "markdown",
   "id": "4bf5054c",
   "metadata": {},
   "source": [
    "Đếm số lượng của mỗi từ trong Truyện Kiều. Liệt kê top 20 từ xuất hiện nhiều nhất."
   ]
  },
  {
   "cell_type": "code",
   "execution_count": null,
   "id": "0866c0d8",
   "metadata": {},
   "outputs": [],
   "source": []
  }
 ],
 "metadata": {
  "kernelspec": {
   "display_name": "Python 3.10.5 64-bit",
   "language": "python",
   "name": "python3"
  },
  "language_info": {
   "codemirror_mode": {
    "name": "ipython",
    "version": 3
   },
   "file_extension": ".py",
   "mimetype": "text/x-python",
   "name": "python",
   "nbconvert_exporter": "python",
   "pygments_lexer": "ipython3",
   "version": "3.10.5"
  },
  "vscode": {
   "interpreter": {
    "hash": "f741f651423043d8efad8c620c721a33ca236d2480d05e19fbe7a94b0a35d628"
   }
  }
 },
 "nbformat": 4,
 "nbformat_minor": 5
}
